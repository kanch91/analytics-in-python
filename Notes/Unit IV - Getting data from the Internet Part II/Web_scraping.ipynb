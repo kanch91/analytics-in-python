{
  "nbformat": 4,
  "nbformat_minor": 0,
  "metadata": {
    "colab": {
      "name": "Web_scraping (2).ipynb",
      "version": "0.3.2",
      "provenance": [],
      "collapsed_sections": []
    },
    "language_info": {
      "codemirror_mode": {
        "name": "ipython",
        "version": 3
      },
      "file_extension": ".py",
      "mimetype": "text/x-python",
      "name": "python",
      "nbconvert_exporter": "python",
      "pygments_lexer": "ipython3",
      "version": "3.5.2"
    },
    "kernelspec": {
      "display_name": "Python [Root]",
      "language": "python",
      "name": "Python [Root]"
    }
  },
  "cells": [
    {
      "cell_type": "markdown",
      "metadata": {
        "id": "WlL3EOylldmw",
        "colab_type": "text"
      },
      "source": [
        "<h2>Caveat</h2>\n",
        "Web sites often change the format of their pages so this may not always work. If it doesn't, rework the examples after examining the html content of the page (most browsers will let you see the html source - look for a \"page source\" option - though you might have to turn on the developer mode in your browser preferences. For example, on Chrome you need to click the \"developer mode\" check box under Extensions in the Preferences/Options menu. "
      ]
    },
    {
      "cell_type": "markdown",
      "metadata": {
        "id": "NTgVc2uNldmy",
        "colab_type": "text"
      },
      "source": [
        "<h3>Import necessary modules</h3>"
      ]
    },
    {
      "cell_type": "code",
      "metadata": {
        "id": "Kr7bFW-vldm0",
        "colab_type": "code",
        "colab": {}
      },
      "source": [
        "import requests\n",
        "from bs4 import BeautifulSoup"
      ],
      "execution_count": 0,
      "outputs": []
    },
    {
      "cell_type": "markdown",
      "metadata": {
        "id": "A7hePTKvldm9",
        "colab_type": "text"
      },
      "source": [
        "<h3>The http request response cycle</h3>"
      ]
    },
    {
      "cell_type": "code",
      "metadata": {
        "id": "u7sXBQkqldm-",
        "colab_type": "code",
        "colab": {}
      },
      "source": [
        "url = \"http://www.epicurious.com/search/Tofu Chili\"\n",
        "response = requests.get(url)\n",
        "if response.status_code == 200:\n",
        "    print(\"Success\")\n",
        "else:\n",
        "    print(\"Failure\")"
      ],
      "execution_count": 0,
      "outputs": []
    },
    {
      "cell_type": "code",
      "metadata": {
        "id": "KPERoBleldnF",
        "colab_type": "code",
        "colab": {}
      },
      "source": [
        "keywords = input(\"Please enter the things you want to see in a recipe\")\n",
        "url = \"http://www.epicurious.com/search/\" + keywords\n",
        "response = requests.get(url)\n",
        "if response.status_code == 200:\n",
        "    print(\"Success\")\n",
        "else:\n",
        "    print(\"Failure\")"
      ],
      "execution_count": 0,
      "outputs": []
    },
    {
      "cell_type": "markdown",
      "metadata": {
        "id": "My4x5BIHldnL",
        "colab_type": "text"
      },
      "source": [
        "<h3>Set up the BeautifulSoup object</h3>"
      ]
    },
    {
      "cell_type": "code",
      "metadata": {
        "id": "yALUbAa-ldnM",
        "colab_type": "code",
        "colab": {}
      },
      "source": [
        "results_page = BeautifulSoup(response.content,'lxml')\n",
        "print(results_page.prettify())"
      ],
      "execution_count": 0,
      "outputs": []
    },
    {
      "cell_type": "markdown",
      "metadata": {
        "id": "zNmBKtk-ldnS",
        "colab_type": "text"
      },
      "source": [
        "<h3>BS4 functions</h3>"
      ]
    },
    {
      "cell_type": "markdown",
      "metadata": {
        "id": "R-1f78aQldnU",
        "colab_type": "text"
      },
      "source": [
        "<h4>find_all finds all instances of a specified tag</h4>\n",
        "<h4>returns a result_set (a list)</h4>"
      ]
    },
    {
      "cell_type": "code",
      "metadata": {
        "id": "7iUymqQvldnV",
        "colab_type": "code",
        "colab": {}
      },
      "source": [
        "all_a_tags = results_page.find_all('a')\n",
        "print(type(all_a_tags))"
      ],
      "execution_count": 0,
      "outputs": []
    },
    {
      "cell_type": "code",
      "metadata": {
        "id": "TsMVUHCmldnb",
        "colab_type": "code",
        "colab": {}
      },
      "source": [
        ""
      ],
      "execution_count": 0,
      "outputs": []
    },
    {
      "cell_type": "markdown",
      "metadata": {
        "id": "qA362W5Nldng",
        "colab_type": "text"
      },
      "source": [
        "<h4>find finds the first instance of a specified tag</h4>\n",
        "<h4>returns a bs4 element</h4>\n"
      ]
    },
    {
      "cell_type": "code",
      "metadata": {
        "id": "ryznoa26ldni",
        "colab_type": "code",
        "colab": {}
      },
      "source": [
        "div_tag = results_page.find('div')\n"
      ],
      "execution_count": 0,
      "outputs": []
    },
    {
      "cell_type": "code",
      "metadata": {
        "id": "jzLuKvNhldno",
        "colab_type": "code",
        "colab": {}
      },
      "source": [
        "print(type(div_tag))\n"
      ],
      "execution_count": 0,
      "outputs": []
    },
    {
      "cell_type": "markdown",
      "metadata": {
        "id": "nMAwk0FWldnw",
        "colab_type": "text"
      },
      "source": [
        "<h4>bs4 functions can be recursively applied on elements</h4>"
      ]
    },
    {
      "cell_type": "code",
      "metadata": {
        "id": "poCzmvP9ldny",
        "colab_type": "code",
        "colab": {}
      },
      "source": [
        "div_tag.find('a')"
      ],
      "execution_count": 0,
      "outputs": []
    },
    {
      "cell_type": "markdown",
      "metadata": {
        "id": "_xPDkVW8ldn6",
        "colab_type": "text"
      },
      "source": [
        "<h4>Both find as well as find_all can be qualified by css selectors</h4>\n",
        "<li>using selector=value\n",
        "<li>using a dictionary"
      ]
    },
    {
      "cell_type": "code",
      "metadata": {
        "id": "P4CT1pWoldn7",
        "colab_type": "code",
        "colab": {}
      },
      "source": [
        "#When using this method and looking for 'class' use 'class_' (because class is a reserved word in python)\n",
        "#Note that we get a list back because find_all returns a list\n",
        "results_page.find_all('article',class_=\"recipe-content-card\")"
      ],
      "execution_count": 0,
      "outputs": []
    },
    {
      "cell_type": "code",
      "metadata": {
        "id": "yUTBfWw1ldoA",
        "colab_type": "code",
        "colab": {}
      },
      "source": [
        "#Since we're using a string as the key, the fact that class is a reserved word is not a problem\n",
        "#We get an element back because find returns an element\n",
        "results_page.find('article',{'class':'recipe-content-card'})"
      ],
      "execution_count": 0,
      "outputs": []
    },
    {
      "cell_type": "markdown",
      "metadata": {
        "id": "foQjovNwldoE",
        "colab_type": "text"
      },
      "source": [
        "<h4>get_text() returns the marked up text (the content) enclosed in a tag.</h4>\n",
        "<li>returns a string"
      ]
    },
    {
      "cell_type": "code",
      "metadata": {
        "id": "sf0ZO0OnldoG",
        "colab_type": "code",
        "colab": {}
      },
      "source": [
        "results_page.find('article',{'class':'recipe-content-card'}).get_text()"
      ],
      "execution_count": 0,
      "outputs": []
    },
    {
      "cell_type": "markdown",
      "metadata": {
        "id": "wBPraPPgldoJ",
        "colab_type": "text"
      },
      "source": [
        "<h4>get returns the value of a tag attribute</h4>\n",
        "<li>returns a string"
      ]
    },
    {
      "cell_type": "code",
      "metadata": {
        "id": "i3JegM5zldoL",
        "colab_type": "code",
        "colab": {}
      },
      "source": [
        "recipe_tag = results_page.find('article',{'class':'recipe-content-card'})\n",
        "recipe_link = recipe_tag.find('a')\n",
        "print(\"a tag:\",recipe_link)\n",
        "link_url = recipe_link.get('href')\n",
        "print(\"link url:\",link_url)\n",
        "print(type(link_url))"
      ],
      "execution_count": 0,
      "outputs": []
    },
    {
      "cell_type": "markdown",
      "metadata": {
        "id": "bmdTDsslldoP",
        "colab_type": "text"
      },
      "source": [
        "<h1>A function that returns a list containing recipe names, recipe descriptions (if any) and recipe urls</h1>"
      ]
    },
    {
      "cell_type": "code",
      "metadata": {
        "id": "ycvG_KE_ldoR",
        "colab_type": "code",
        "colab": {}
      },
      "source": [
        "def get_recipes(keywords):\n",
        "    recipe_list = list()\n",
        "    import requests\n",
        "    from bs4 import BeautifulSoup\n",
        "    url = \"http://www.epicurious.com/search/\" + keywords\n",
        "    response = requests.get(url)\n",
        "    if not response.status_code == 200:\n",
        "        return None\n",
        "    try:\n",
        "        results_page = BeautifulSoup(response.content,'lxml')\n",
        "        recipes = results_page.find_all('article',class_=\"recipe-content-card\")\n",
        "        for recipe in recipes:\n",
        "            recipe_link = \"http://www.epicurious.com\" + recipe.find('a').get('href')\n",
        "            recipe_name = recipe.find('a').get_text()\n",
        "            try:\n",
        "                recipe_description = recipe.find('p',class_='dek').get_text()\n",
        "            except:\n",
        "                recipe_description = ''\n",
        "            recipe_list.append((recipe_name,recipe_link,recipe_description))\n",
        "        return recipe_list\n",
        "    except:\n",
        "        return None"
      ],
      "execution_count": 0,
      "outputs": []
    },
    {
      "cell_type": "code",
      "metadata": {
        "id": "k9Tq9I6HldoV",
        "colab_type": "code",
        "colab": {}
      },
      "source": [
        "get_recipes(\"Tofu chili\")"
      ],
      "execution_count": 0,
      "outputs": []
    },
    {
      "cell_type": "code",
      "metadata": {
        "id": "3VcVyJXVldob",
        "colab_type": "code",
        "colab": {}
      },
      "source": [
        "get_recipes('Nothing')"
      ],
      "execution_count": 0,
      "outputs": []
    },
    {
      "cell_type": "markdown",
      "metadata": {
        "id": "CPRwbv1mldoh",
        "colab_type": "text"
      },
      "source": [
        "<h2>Let's write a function that</h2>\n",
        "<h3>given a recipe link</h3>\n",
        "<h3>returns a dictionary containing the ingredients and preparation instructions</h3>"
      ]
    },
    {
      "cell_type": "code",
      "metadata": {
        "id": "W4hXwkh3ldol",
        "colab_type": "code",
        "colab": {}
      },
      "source": [
        "recipe_link = \"http://www.epicurious.com\" + '/recipes/food/views/spicy-lemongrass-tofu-233844'"
      ],
      "execution_count": 0,
      "outputs": []
    },
    {
      "cell_type": "code",
      "metadata": {
        "id": "6pokEAIildor",
        "colab_type": "code",
        "colab": {}
      },
      "source": [
        "def get_recipe_info(recipe_link):\n",
        "    recipe_dict = dict()\n",
        "    import requests\n",
        "    from bs4 import BeautifulSoup\n",
        "    try:\n",
        "        response = requests.get(recipe_link)\n",
        "        if not response.status_code == 200:\n",
        "            return recipe_dict\n",
        "        result_page = BeautifulSoup(response.content,'lxml')\n",
        "        ingredient_list = list()\n",
        "        prep_steps_list = list()\n",
        "        for ingredient in result_page.find_all('li',class_='ingredient'):\n",
        "            ingredient_list.append(ingredient.get_text())\n",
        "        for prep_step in result_page.find_all('li',class_='preparation-step'):\n",
        "            prep_steps_list.append(prep_step.get_text().strip())\n",
        "        recipe_dict['ingredients'] = ingredient_list\n",
        "        recipe_dict['preparation'] = prep_steps_list\n",
        "        return recipe_dict\n",
        "    except:\n",
        "        return recipe_dict\n",
        "        "
      ],
      "execution_count": 0,
      "outputs": []
    },
    {
      "cell_type": "code",
      "metadata": {
        "id": "yD1dACEZldov",
        "colab_type": "code",
        "colab": {}
      },
      "source": [
        "get_recipe_info(recipe_link)"
      ],
      "execution_count": 0,
      "outputs": []
    },
    {
      "cell_type": "markdown",
      "metadata": {
        "id": "_Z-3Hk4yldoz",
        "colab_type": "text"
      },
      "source": [
        "<h2>Construct a list of dictionaries for all recipes</h2>"
      ]
    },
    {
      "cell_type": "code",
      "metadata": {
        "id": "VkiKyRJRldo0",
        "colab_type": "code",
        "colab": {}
      },
      "source": [
        "def get_all_recipes(keywords):\n",
        "    results = list()\n",
        "    all_recipes = get_recipes(keywords)\n",
        "    for recipe in all_recipes:\n",
        "        recipe_dict = get_recipe_info(recipe[1])\n",
        "        recipe_dict['name'] = recipe[0]\n",
        "        recipe_dict['description'] = recipe[2]\n",
        "        results.append(recipe_dict)\n",
        "    return(results)"
      ],
      "execution_count": 0,
      "outputs": []
    },
    {
      "cell_type": "code",
      "metadata": {
        "id": "5EJyPW1Zldo6",
        "colab_type": "code",
        "colab": {}
      },
      "source": [
        "get_all_recipes(\"Tofu chili\")"
      ],
      "execution_count": 0,
      "outputs": []
    },
    {
      "cell_type": "markdown",
      "metadata": {
        "id": "1ABYGE2EldpA",
        "colab_type": "text"
      },
      "source": [
        "<h1>Logging in to a web server</h1>"
      ]
    },
    {
      "cell_type": "markdown",
      "metadata": {
        "id": "SxNlpALXldpC",
        "colab_type": "text"
      },
      "source": [
        "<h2>Get username and password</h2>\n",
        "<li>Best to store in a file for reuse\n",
        "<li>You will need to set up your own login and password and place them in a file called wikidata.txt\n",
        "<li>Line one of the file should contain your username\n",
        "<li>Line two your password"
      ]
    },
    {
      "cell_type": "code",
      "metadata": {
        "id": "kvd_ZG2OldpE",
        "colab_type": "code",
        "colab": {}
      },
      "source": [
        "with open('wikidata.txt') as f:\n",
        "    contents = f.read().split('\\n')\n",
        "    username = contents[0]\n",
        "    password = contents[1]\n"
      ],
      "execution_count": 0,
      "outputs": []
    },
    {
      "cell_type": "markdown",
      "metadata": {
        "id": "uF00RMPvldpJ",
        "colab_type": "text"
      },
      "source": [
        "<h3>Construct an object that contains the data to be sent to the login page</h3>"
      ]
    },
    {
      "cell_type": "code",
      "metadata": {
        "id": "uYTitvm8ldpL",
        "colab_type": "code",
        "colab": {}
      },
      "source": [
        "\n",
        "payload = {\n",
        "    'wpName': username,\n",
        "    'wpPassword': password,\n",
        "    'wploginattempt': 'Log in',\n",
        "    'wpEditToken': \"+\\\\\",\n",
        "    'title': \"Special:UserLogin\",\n",
        "    'authAction': \"login\",\n",
        "    'force': \"\",\n",
        "    'wpForceHttps': \"1\",\n",
        "    'wpFromhttp': \"1\",\n",
        "    #'wpLoginToken': ‘', #We need to read this from the page\n",
        "    }"
      ],
      "execution_count": 0,
      "outputs": []
    },
    {
      "cell_type": "markdown",
      "metadata": {
        "id": "DOLDII6bldpO",
        "colab_type": "text"
      },
      "source": [
        "<h3>get the value of the login token</h3>"
      ]
    },
    {
      "cell_type": "code",
      "metadata": {
        "id": "omjnNjzUldpQ",
        "colab_type": "code",
        "colab": {}
      },
      "source": [
        "def get_login_token(response):\n",
        "    soup = BeautifulSoup(response.text, 'lxml')\n",
        "    token = soup.find('input',{'name':\"wpLoginToken\"}).get('value')\n",
        "    return token\n"
      ],
      "execution_count": 0,
      "outputs": []
    },
    {
      "cell_type": "markdown",
      "metadata": {
        "id": "woI4hRFUldpW",
        "colab_type": "text"
      },
      "source": [
        "<h3>Setup a session, login, and get data</h3>"
      ]
    },
    {
      "cell_type": "code",
      "metadata": {
        "id": "f8rkpOnMldpY",
        "colab_type": "code",
        "colab": {}
      },
      "source": [
        "with requests.session() as s:\n",
        "    response = s.get('https://en.wikipedia.org/w/index.php?title=Special:UserLogin&returnto=Main+Page')\n",
        "    payload['wpLoginToken'] = get_login_token(response)\n",
        "    #Send the login request\n",
        "    response_post = s.post('https://en.wikipedia.org/w/index.php?title=Special:UserLogin&action=submitlogin&type=login',\n",
        "                           data=payload)\n",
        "    #Get another page and check if we’re still logged in\n",
        "    response = s.get('https://en.wikipedia.org/wiki/Special:Watchlist')\n",
        "    data = BeautifulSoup(response.content,'lxml')\n",
        "    print(data.find('div',class_='mw-changeslist').get_text())"
      ],
      "execution_count": 0,
      "outputs": []
    },
    {
      "cell_type": "code",
      "metadata": {
        "id": "wAI-4gVpldpm",
        "colab_type": "code",
        "colab": {}
      },
      "source": [
        ""
      ],
      "execution_count": 0,
      "outputs": []
    }
  ]
}